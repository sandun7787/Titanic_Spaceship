{
 "cells": [
  {
   "cell_type": "code",
   "execution_count": 2,
   "id": "0de1cbd7-6275-4ec2-92cd-e59f21181a49",
   "metadata": {},
   "outputs": [
    {
     "name": "stdout",
     "output_type": "stream",
     "text": [
      " * Serving Flask app '__main__'\n",
      " * Debug mode: on\n"
     ]
    },
    {
     "name": "stderr",
     "output_type": "stream",
     "text": [
      "WARNING: This is a development server. Do not use it in a production deployment. Use a production WSGI server instead.\n",
      " * Running on http://127.0.0.1:5000\n",
      "Press CTRL+C to quit\n",
      " * Restarting with stat\n"
     ]
    },
    {
     "ename": "SystemExit",
     "evalue": "1",
     "output_type": "error",
     "traceback": [
      "An exception has occurred, use %tb to see the full traceback.\n",
      "\u001b[1;31mSystemExit\u001b[0m\u001b[1;31m:\u001b[0m 1\n"
     ]
    },
    {
     "name": "stderr",
     "output_type": "stream",
     "text": [
      "C:\\Users\\Sandun\\AppData\\Local\\Programs\\Python\\Python312\\Lib\\site-packages\\IPython\\core\\interactiveshell.py:3585: UserWarning: To exit: use 'exit', 'quit', or Ctrl-D.\n",
      "  warn(\"To exit: use 'exit', 'quit', or Ctrl-D.\", stacklevel=1)\n"
     ]
    }
   ],
   "source": [
    "from flask import Flask, render_template, request, jsonify\n",
    "import pickle\n",
    "\n",
    "app = Flask(__name__)\n",
    "\n",
    "# Change the path to the local path where your model is stored\n",
    "model_path = './SpaceshipTitanic.h5'\n",
    "model = pickle.load(open(model_path, 'rb'))\n",
    "\n",
    "@app.route('/')\n",
    "def home():\n",
    "    return render_template('index.html')\n",
    "\n",
    "@app.route('/prediction', methods=['POST'])\n",
    "def predict():\n",
    "    feature_names = ['0', '1', '2', '3', '4', '5', '6', '7', '8', '9', '10']\n",
    "\n",
    "    features = [request.form[f] for f in feature_names]\n",
    " \n",
    "    input_data = [features]\n",
    "\n",
    "    # Make prediction\n",
    "    pred = model.predict(input_data)\n",
    "    prob = model.predict_proba(input_data)[0]\n",
    "\n",
    "    # Display the result\n",
    "    if pred[0] == 0:\n",
    "        result = \"Not Transported\"\n",
    "    else:\n",
    "        result = \"Transported\"\n",
    "\n",
    "    return jsonify({'result': result, 'probability': prob[1]})\n",
    "\n",
    "if __name__ == '__main__':\n",
    "    app.run(debug=True)"
   ]
  },
  {
   "cell_type": "code",
   "execution_count": null,
   "id": "95e4fa8f-fd70-461f-83aa-8ffeacd4ee66",
   "metadata": {},
   "outputs": [],
   "source": []
  }
 ],
 "metadata": {
  "kernelspec": {
   "display_name": "Python 3 (ipykernel)",
   "language": "python",
   "name": "python3"
  },
  "language_info": {
   "codemirror_mode": {
    "name": "ipython",
    "version": 3
   },
   "file_extension": ".py",
   "mimetype": "text/x-python",
   "name": "python",
   "nbconvert_exporter": "python",
   "pygments_lexer": "ipython3",
   "version": "3.12.6"
  }
 },
 "nbformat": 4,
 "nbformat_minor": 5
}
